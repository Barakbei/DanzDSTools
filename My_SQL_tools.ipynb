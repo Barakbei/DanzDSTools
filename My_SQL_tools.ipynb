{
 "cells": [
  {
   "cell_type": "code",
   "execution_count": 1,
   "metadata": {},
   "outputs": [],
   "source": [
    "import mysql.connector as connector\n",
    "import pandas as pd\n",
    "import matplotlib.pyplot as plt\n",
    "import seaborn as sns"
   ]
  },
  {
   "cell_type": "code",
   "execution_count": 2,
   "metadata": {},
   "outputs": [],
   "source": [
    "host = 'localhost'\n",
    "user = 'root'\n",
    "password = '123456'\n",
    "database = 'imdb'"
   ]
  },
  {
   "cell_type": "code",
   "execution_count": 3,
   "metadata": {},
   "outputs": [],
   "source": [
    "def connect_to_mysql():\n",
    "    \"\"\"\n",
    "    This function uses the configuration from config.py file and returns a connection the mysql. if stocks_db doesn't\n",
    "    exists it create one according to stock_prices.sql file.\n",
    "    :return: a connection at the stacks_db database:\n",
    "    \"\"\"\n",
    "    con = connector.connect(host=host, user=user, password=password, database=database)\n",
    "    return con"
   ]
  },
  {
   "cell_type": "code",
   "execution_count": 4,
   "metadata": {},
   "outputs": [],
   "source": [
    "def send_statement(con, statement):\n",
    "    \"\"\"\n",
    "    This function receives statement and connection and runs the statement. it return the return from that statement\n",
    "    :param statement: String to be run on the db\n",
    "    :param con: A connection object to the sql\n",
    "    :return: the return from the db\n",
    "    \"\"\"\n",
    "    cursor = con.cursor()\n",
    "    cursor.execute(statement)\n",
    "    return list(cursor)"
   ]
  },
  {
   "cell_type": "code",
   "execution_count": 12,
   "metadata": {},
   "outputs": [],
   "source": [
    "def get_tables(con):\n",
    "    \"\"\"\n",
    "    This function receives a connection and returns a list of the columns in that table\n",
    "    :param con: A connection object to the sql\n",
    "    :return: A list containing the tables in the db\n",
    "    \"\"\"\n",
    "    quarry = f\"SHOW TABLES\"\n",
    "    tables_tuple = send_statement(con, quarry)\n",
    "    return [column[0] for column in tables_tuple]"
   ]
  },
  {
   "cell_type": "code",
   "execution_count": 5,
   "metadata": {},
   "outputs": [],
   "source": [
    "def get_columns(con, table):\n",
    "    \"\"\"\n",
    "    This function receives a connection and a table and returns a list of the columns in that table\n",
    "    :param con: A connection object to the sql\n",
    "    :param table: A table to collect the columns from\n",
    "    :return: A list containing the columns in the list\n",
    "    \"\"\"\n",
    "    quarry = f\"SELECT COLUMN_NAME FROM INFORMATION_SCHEMA.COLUMNS WHERE TABLE_NAME = N'{table}'\"\n",
    "    columns_tuple = send_statement(con, quarry)\n",
    "    return [column[0] for column in columns_tuple]"
   ]
  },
  {
   "cell_type": "code",
   "execution_count": 6,
   "metadata": {},
   "outputs": [],
   "source": [
    "def get_quarry(table, columns=\"*\", limit=None, where=None, order=None, desc=False):\n",
    "    \"\"\"\n",
    "    This function generates a SQL quarry accordion to the input parameters\n",
    "    \"\"\"\n",
    "    if columns:\n",
    "        columns_quarry = f\"{', '.join(columns)}\"\n",
    "    else:\n",
    "        columns_quarry = \"*\"\n",
    "    if where:\n",
    "        where_quarry = f\"WHERE {where}\"\n",
    "    else:\n",
    "        where_quarry = \"\"\n",
    "    if limit:\n",
    "        limit_quarry = f'LIMIT {limit}'\n",
    "    else:\n",
    "        limit_quarry = \"\"\n",
    "    if order:\n",
    "        order_quarry = f\"ORDER BY {order}\"\n",
    "        if desc:\n",
    "            order_quarry += \" DESC\"\n",
    "    else:\n",
    "        order_quarry = \"\"\n",
    "    quarry = f\"SELECT {columns_quarry} FROM {table} {where_quarry} {order_quarry} {limit_quarry};\"\n",
    "    return quarry"
   ]
  },
  {
   "cell_type": "code",
   "execution_count": 7,
   "metadata": {},
   "outputs": [],
   "source": [
    "    table = 'salaries'\n",
    "    con = connect_to_mysql()\n",
    "    quarry = \"\"\"select m.genre, COUNT(DISTINCT a.id) from movies as m\n",
    "                inner join cast as c on c.movie_id=m.id\n",
    "                inner join actors as a on c.actor_id=a.id\n",
    "                group by m.genre\n",
    "                order by COUNT(DISTINCT a.id) DESC\"\"\"\n",
    "    results = send_statement(con, quarry)"
   ]
  },
  {
   "cell_type": "code",
   "execution_count": 8,
   "metadata": {},
   "outputs": [],
   "source": [
    "movies = [row[0] for row in results]\n",
    "num_cast = [row[1] for row in results]"
   ]
  },
  {
   "cell_type": "code",
   "execution_count": 9,
   "metadata": {},
   "outputs": [
    {
     "data": {
      "image/png": "[encoded data removed]",
      "text/plain": [
       "<Figure size 1440x360 with 1 Axes>"
      ]
     },
     "metadata": {
      "needs_background": "light"
     },
     "output_type": "display_data"
    }
   ],
   "source": [
    "plt.figure(figsize=(20,5))\n",
    "sns.barplot(movies, num_cast)\n",
    "plt.title(\"Number of actors in each genre\");\n",
    "plt.xlabel(\"Movie\")\n",
    "plt.ylabel(\"Number of actors\")\n",
    "plt.tight_layout()\n",
    "plt.show()"
   ]
  },
  {
   "cell_type": "code",
   "execution_count": 16,
   "metadata": {},
   "outputs": [],
   "source": [
    "    table = 'salaries'\n",
    "    con = connect_to_mysql()\n",
    "    quarry = \"\"\"SELECT m.title, sum(c.salary) FROM cast AS c\n",
    "                INNER JOIN movies AS m ON c.movie_id=m.id\n",
    "                group by m.id\"\"\"\n",
    "    results = send_statement(con, quarry)\n",
    "    total_salaries = [int(row[1]) for row in results]"
   ]
  },
  {
   "cell_type": "code",
   "execution_count": 20,
   "metadata": {},
   "outputs": [
    {
     "data": {
      "image/png": "[encoded data removed]",
      "text/plain": [
       "<Figure size 432x288 with 1 Axes>"
      ]
     },
     "metadata": {
      "needs_background": "light"
     },
     "output_type": "display_data"
    }
   ],
   "source": [
    "plt.hist(total_salaries, bins=10)\n",
    "plt.show()"
   ]
  }
 ],
 "metadata": {
  "kernelspec": {
   "display_name": "Python [conda env:root] *",
   "language": "python",
   "name": "conda-root-py"
  },
  "language_info": {
   "codemirror_mode": {
    "name": "ipython",
    "version": 3
   },
   "file_extension": ".py",
   "mimetype": "text/x-python",
   "name": "python",
   "nbconvert_exporter": "python",
   "pygments_lexer": "ipython3",
   "version": "3.8.3"
  }
 },
 "nbformat": 4,
 "nbformat_minor": 4
}
